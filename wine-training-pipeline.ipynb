{
 "cells": [
  {
   "cell_type": "code",
   "execution_count": 1,
   "id": "b797efd6-e7ef-4c59-ab76-a02bdfd92f04",
   "metadata": {},
   "outputs": [],
   "source": [
    "    import hopsworks\n",
    "    import pandas as pd\n",
    "    from sklearn.metrics import accuracy_score\n",
    "    from sklearn.metrics import confusion_matrix\n",
    "    from sklearn.metrics import classification_report\n",
    "    import seaborn as sns\n",
    "    from matplotlib import pyplot\n",
    "    from hsml.schema import Schema\n",
    "    from hsml.model_schema import ModelSchema\n",
    "    import joblib\n",
    "    import os"
   ]
  },
  {
   "cell_type": "code",
   "execution_count": 2,
   "id": "09e5edc4-4595-4f1b-b3ad-6da0ecdcd0c3",
   "metadata": {},
   "outputs": [
    {
     "name": "stdout",
     "output_type": "stream",
     "text": [
      "Connected. Call `.close()` to terminate connection gracefully.\n",
      "\n",
      "Logged in to project, explore it here https://c.app.hopsworks.ai:443/p/212121\n",
      "Connected. Call `.close()` to terminate connection gracefully.\n"
     ]
    }
   ],
   "source": [
    "project = hopsworks.login()\n",
    "fs = project.get_feature_store()"
   ]
  },
  {
   "cell_type": "code",
   "execution_count": 3,
   "id": "72ccff4f-1dce-450c-ac5b-68f41dac8471",
   "metadata": {},
   "outputs": [
    {
     "name": "stdout",
     "output_type": "stream",
     "text": [
      "Feature view created successfully, explore it at \n",
      "https://c.app.hopsworks.ai:443/p/212121/fs/212040/fv/wine_quality/version/1\n"
     ]
    }
   ],
   "source": [
    "wine_fg = fs.get_feature_group(name=\"wine_quality\", version=1)\n",
    "query = wine_fg.select_all()\n",
    "feature_view = fs.get_or_create_feature_view(name=\"wine_quality\",\n",
    "                                  version=1,\n",
    "                                  description=\"Read from Wine Quality dataset\",\n",
    "                                  labels=[\"quality\"],\n",
    "                                  query=query)"
   ]
  },
  {
   "cell_type": "code",
   "execution_count": 4,
   "id": "1c2260c0-b227-40cd-99d4-97f505bad00f",
   "metadata": {},
   "outputs": [
    {
     "ename": "RestAPIError",
     "evalue": "Metadata operation error: (url: https://c.app.hopsworks.ai/hopsworks-api/api/project/212121/featurestores/212040/featureview/wine_quality/version/1/trainingdatasets). Server response: \nHTTP code: 500, HTTP reason: Internal Server Error, body: b'{\"errorCode\":270186,\"usrMsg\":\"Training datasets quota reached for Project id2223_mldl. Current: 100 Max: 100\",\"devMsg\":\"Training datasets quota reached for Project id2223_mldl. Current: 100 Max: 100\",\"errorMsg\":\"Could not create training dataset\"}', error code: 270186, error msg: Could not create training dataset, user msg: Training datasets quota reached for Project id2223_mldl. Current: 100 Max: 100",
     "output_type": "error",
     "traceback": [
      "\u001b[1;31m---------------------------------------------------------------------------\u001b[0m",
      "\u001b[1;31mRestAPIError\u001b[0m                              Traceback (most recent call last)",
      "Cell \u001b[1;32mIn[4], line 1\u001b[0m\n\u001b[1;32m----> 1\u001b[0m X_train, X_test, y_train, y_test \u001b[38;5;241m=\u001b[39m \u001b[43mfeature_view\u001b[49m\u001b[38;5;241;43m.\u001b[39;49m\u001b[43mtrain_test_split\u001b[49m\u001b[43m(\u001b[49m\u001b[38;5;241;43m0.2\u001b[39;49m\u001b[43m)\u001b[49m\n",
      "File \u001b[1;32m~\\miniconda3\\envs\\labenv\\lib\\site-packages\\hsfs\\feature_view.py:1810\u001b[0m, in \u001b[0;36mFeatureView.train_test_split\u001b[1;34m(self, test_size, train_start, train_end, test_start, test_end, description, extra_filter, statistics_config, read_options, spine)\u001b[0m\n\u001b[0;32m   1788\u001b[0m \u001b[38;5;28mself\u001b[39m\u001b[38;5;241m.\u001b[39m_validate_train_test_split(\n\u001b[0;32m   1789\u001b[0m     test_size\u001b[38;5;241m=\u001b[39mtest_size, train_end\u001b[38;5;241m=\u001b[39mtrain_end, test_start\u001b[38;5;241m=\u001b[39mtest_start\n\u001b[0;32m   1790\u001b[0m )\n\u001b[0;32m   1791\u001b[0m td \u001b[38;5;241m=\u001b[39m training_dataset\u001b[38;5;241m.\u001b[39mTrainingDataset(\n\u001b[0;32m   1792\u001b[0m     name\u001b[38;5;241m=\u001b[39m\u001b[38;5;28mself\u001b[39m\u001b[38;5;241m.\u001b[39mname,\n\u001b[0;32m   1793\u001b[0m     version\u001b[38;5;241m=\u001b[39m\u001b[38;5;28;01mNone\u001b[39;00m,\n\u001b[1;32m   (...)\u001b[0m\n\u001b[0;32m   1808\u001b[0m     extra_filter\u001b[38;5;241m=\u001b[39mextra_filter,\n\u001b[0;32m   1809\u001b[0m )\n\u001b[1;32m-> 1810\u001b[0m td, df \u001b[38;5;241m=\u001b[39m \u001b[38;5;28;43mself\u001b[39;49m\u001b[38;5;241;43m.\u001b[39;49m\u001b[43m_feature_view_engine\u001b[49m\u001b[38;5;241;43m.\u001b[39;49m\u001b[43mget_training_data\u001b[49m\u001b[43m(\u001b[49m\n\u001b[0;32m   1811\u001b[0m \u001b[43m    \u001b[49m\u001b[38;5;28;43mself\u001b[39;49m\u001b[43m,\u001b[49m\n\u001b[0;32m   1812\u001b[0m \u001b[43m    \u001b[49m\u001b[43mread_options\u001b[49m\u001b[43m,\u001b[49m\n\u001b[0;32m   1813\u001b[0m \u001b[43m    \u001b[49m\u001b[43mtraining_dataset_obj\u001b[49m\u001b[38;5;241;43m=\u001b[39;49m\u001b[43mtd\u001b[49m\u001b[43m,\u001b[49m\n\u001b[0;32m   1814\u001b[0m \u001b[43m    \u001b[49m\u001b[43msplits\u001b[49m\u001b[38;5;241;43m=\u001b[39;49m\u001b[43m[\u001b[49m\u001b[43mTrainingDatasetSplit\u001b[49m\u001b[38;5;241;43m.\u001b[39;49m\u001b[43mTRAIN\u001b[49m\u001b[43m,\u001b[49m\u001b[43m \u001b[49m\u001b[43mTrainingDatasetSplit\u001b[49m\u001b[38;5;241;43m.\u001b[39;49m\u001b[43mTEST\u001b[49m\u001b[43m]\u001b[49m\u001b[43m,\u001b[49m\n\u001b[0;32m   1815\u001b[0m \u001b[43m    \u001b[49m\u001b[43mspine\u001b[49m\u001b[38;5;241;43m=\u001b[39;49m\u001b[43mspine\u001b[49m\u001b[43m,\u001b[49m\n\u001b[0;32m   1816\u001b[0m \u001b[43m\u001b[49m\u001b[43m)\u001b[49m\n\u001b[0;32m   1817\u001b[0m warnings\u001b[38;5;241m.\u001b[39mwarn(\n\u001b[0;32m   1818\u001b[0m     \u001b[38;5;124m\"\u001b[39m\u001b[38;5;124mIncremented version to `\u001b[39m\u001b[38;5;132;01m{}\u001b[39;00m\u001b[38;5;124m`.\u001b[39m\u001b[38;5;124m\"\u001b[39m\u001b[38;5;241m.\u001b[39mformat(td\u001b[38;5;241m.\u001b[39mversion),\n\u001b[0;32m   1819\u001b[0m     util\u001b[38;5;241m.\u001b[39mVersionWarning,\n\u001b[0;32m   1820\u001b[0m )\n\u001b[0;32m   1821\u001b[0m \u001b[38;5;28;01mreturn\u001b[39;00m df\n",
      "File \u001b[1;32m~\\miniconda3\\envs\\labenv\\lib\\site-packages\\hsfs\\core\\feature_view_engine.py:246\u001b[0m, in \u001b[0;36mFeatureViewEngine.get_training_data\u001b[1;34m(self, feature_view_obj, read_options, splits, training_dataset_obj, training_dataset_version, spine)\u001b[0m\n\u001b[0;32m    244\u001b[0m \u001b[38;5;28;01melse\u001b[39;00m:\n\u001b[0;32m    245\u001b[0m     \u001b[38;5;28mself\u001b[39m\u001b[38;5;241m.\u001b[39m_set_event_time(feature_view_obj, training_dataset_obj)\n\u001b[1;32m--> 246\u001b[0m     td_updated \u001b[38;5;241m=\u001b[39m \u001b[38;5;28;43mself\u001b[39;49m\u001b[38;5;241;43m.\u001b[39;49m\u001b[43m_create_training_data_metadata\u001b[49m\u001b[43m(\u001b[49m\n\u001b[0;32m    247\u001b[0m \u001b[43m        \u001b[49m\u001b[43mfeature_view_obj\u001b[49m\u001b[43m,\u001b[49m\u001b[43m \u001b[49m\u001b[43mtraining_dataset_obj\u001b[49m\n\u001b[0;32m    248\u001b[0m \u001b[43m    \u001b[49m\u001b[43m)\u001b[49m\n\u001b[0;32m    249\u001b[0m \u001b[38;5;66;03m# check splits\u001b[39;00m\n\u001b[0;32m    250\u001b[0m \u001b[38;5;28;01mif\u001b[39;00m \u001b[38;5;28mlen\u001b[39m(splits) \u001b[38;5;241m!=\u001b[39m \u001b[38;5;28mlen\u001b[39m(td_updated\u001b[38;5;241m.\u001b[39msplits):\n",
      "File \u001b[1;32m~\\miniconda3\\envs\\labenv\\lib\\site-packages\\hsfs\\core\\feature_view_engine.py:487\u001b[0m, in \u001b[0;36mFeatureViewEngine._create_training_data_metadata\u001b[1;34m(self, feature_view_obj, training_dataset_obj)\u001b[0m\n\u001b[0;32m    486\u001b[0m \u001b[38;5;28;01mdef\u001b[39;00m \u001b[38;5;21m_create_training_data_metadata\u001b[39m(\u001b[38;5;28mself\u001b[39m, feature_view_obj, training_dataset_obj):\n\u001b[1;32m--> 487\u001b[0m     td \u001b[38;5;241m=\u001b[39m \u001b[38;5;28;43mself\u001b[39;49m\u001b[38;5;241;43m.\u001b[39;49m\u001b[43m_feature_view_api\u001b[49m\u001b[38;5;241;43m.\u001b[39;49m\u001b[43mcreate_training_dataset\u001b[49m\u001b[43m(\u001b[49m\n\u001b[0;32m    488\u001b[0m \u001b[43m        \u001b[49m\u001b[43mfeature_view_obj\u001b[49m\u001b[38;5;241;43m.\u001b[39;49m\u001b[43mname\u001b[49m\u001b[43m,\u001b[49m\u001b[43m \u001b[49m\u001b[43mfeature_view_obj\u001b[49m\u001b[38;5;241;43m.\u001b[39;49m\u001b[43mversion\u001b[49m\u001b[43m,\u001b[49m\u001b[43m \u001b[49m\u001b[43mtraining_dataset_obj\u001b[49m\n\u001b[0;32m    489\u001b[0m \u001b[43m    \u001b[49m\u001b[43m)\u001b[49m\n\u001b[0;32m    490\u001b[0m     td\u001b[38;5;241m.\u001b[39mschema \u001b[38;5;241m=\u001b[39m feature_view_obj\u001b[38;5;241m.\u001b[39mschema\n\u001b[0;32m    491\u001b[0m     td\u001b[38;5;241m.\u001b[39mtransformation_functions \u001b[38;5;241m=\u001b[39m feature_view_obj\u001b[38;5;241m.\u001b[39mtransformation_functions\n",
      "File \u001b[1;32m~\\miniconda3\\envs\\labenv\\lib\\site-packages\\hsfs\\core\\feature_view_api.py:177\u001b[0m, in \u001b[0;36mFeatureViewApi.create_training_dataset\u001b[1;34m(self, name, version, training_dataset_obj)\u001b[0m\n\u001b[0;32m    174\u001b[0m path \u001b[38;5;241m=\u001b[39m \u001b[38;5;28mself\u001b[39m\u001b[38;5;241m.\u001b[39mget_training_data_base_path(name, version)\n\u001b[0;32m    175\u001b[0m headers \u001b[38;5;241m=\u001b[39m {\u001b[38;5;124m\"\u001b[39m\u001b[38;5;124mcontent-type\u001b[39m\u001b[38;5;124m\"\u001b[39m: \u001b[38;5;124m\"\u001b[39m\u001b[38;5;124mapplication/json\u001b[39m\u001b[38;5;124m\"\u001b[39m}\n\u001b[0;32m    176\u001b[0m \u001b[38;5;28;01mreturn\u001b[39;00m training_dataset_obj\u001b[38;5;241m.\u001b[39mupdate_from_response_json(\n\u001b[1;32m--> 177\u001b[0m     \u001b[38;5;28;43mself\u001b[39;49m\u001b[38;5;241;43m.\u001b[39;49m\u001b[43m_client\u001b[49m\u001b[38;5;241;43m.\u001b[39;49m\u001b[43m_send_request\u001b[49m\u001b[43m(\u001b[49m\n\u001b[0;32m    178\u001b[0m \u001b[43m        \u001b[49m\u001b[38;5;124;43m\"\u001b[39;49m\u001b[38;5;124;43mPOST\u001b[39;49m\u001b[38;5;124;43m\"\u001b[39;49m\u001b[43m,\u001b[49m\u001b[43m \u001b[49m\u001b[43mpath\u001b[49m\u001b[43m,\u001b[49m\u001b[43m \u001b[49m\u001b[43mheaders\u001b[49m\u001b[38;5;241;43m=\u001b[39;49m\u001b[43mheaders\u001b[49m\u001b[43m,\u001b[49m\u001b[43m \u001b[49m\u001b[43mdata\u001b[49m\u001b[38;5;241;43m=\u001b[39;49m\u001b[43mtraining_dataset_obj\u001b[49m\u001b[38;5;241;43m.\u001b[39;49m\u001b[43mjson\u001b[49m\u001b[43m(\u001b[49m\u001b[43m)\u001b[49m\n\u001b[0;32m    179\u001b[0m \u001b[43m    \u001b[49m\u001b[43m)\u001b[49m\n\u001b[0;32m    180\u001b[0m )\n",
      "File \u001b[1;32m~\\miniconda3\\envs\\labenv\\lib\\site-packages\\hsfs\\decorators.py:35\u001b[0m, in \u001b[0;36mconnected.<locals>.if_connected\u001b[1;34m(inst, *args, **kwargs)\u001b[0m\n\u001b[0;32m     33\u001b[0m \u001b[38;5;28;01mif\u001b[39;00m \u001b[38;5;129;01mnot\u001b[39;00m inst\u001b[38;5;241m.\u001b[39m_connected:\n\u001b[0;32m     34\u001b[0m     \u001b[38;5;28;01mraise\u001b[39;00m NoHopsworksConnectionError\n\u001b[1;32m---> 35\u001b[0m \u001b[38;5;28;01mreturn\u001b[39;00m fn(inst, \u001b[38;5;241m*\u001b[39margs, \u001b[38;5;241m*\u001b[39m\u001b[38;5;241m*\u001b[39mkwargs)\n",
      "File \u001b[1;32m~\\miniconda3\\envs\\labenv\\lib\\site-packages\\hsfs\\client\\base.py:179\u001b[0m, in \u001b[0;36mClient._send_request\u001b[1;34m(self, method, path_params, query_params, headers, data, stream, files)\u001b[0m\n\u001b[0;32m    176\u001b[0m     response \u001b[38;5;241m=\u001b[39m \u001b[38;5;28mself\u001b[39m\u001b[38;5;241m.\u001b[39m_session\u001b[38;5;241m.\u001b[39msend(prepped, verify\u001b[38;5;241m=\u001b[39m\u001b[38;5;28mself\u001b[39m\u001b[38;5;241m.\u001b[39m_verify, stream\u001b[38;5;241m=\u001b[39mstream)\n\u001b[0;32m    178\u001b[0m \u001b[38;5;28;01mif\u001b[39;00m response\u001b[38;5;241m.\u001b[39mstatus_code \u001b[38;5;241m/\u001b[39m\u001b[38;5;241m/\u001b[39m \u001b[38;5;241m100\u001b[39m \u001b[38;5;241m!=\u001b[39m \u001b[38;5;241m2\u001b[39m:\n\u001b[1;32m--> 179\u001b[0m     \u001b[38;5;28;01mraise\u001b[39;00m exceptions\u001b[38;5;241m.\u001b[39mRestAPIError(url, response)\n\u001b[0;32m    181\u001b[0m \u001b[38;5;28;01mif\u001b[39;00m stream:\n\u001b[0;32m    182\u001b[0m     \u001b[38;5;28;01mreturn\u001b[39;00m response\n",
      "\u001b[1;31mRestAPIError\u001b[0m: Metadata operation error: (url: https://c.app.hopsworks.ai/hopsworks-api/api/project/212121/featurestores/212040/featureview/wine_quality/version/1/trainingdatasets). Server response: \nHTTP code: 500, HTTP reason: Internal Server Error, body: b'{\"errorCode\":270186,\"usrMsg\":\"Training datasets quota reached for Project id2223_mldl. Current: 100 Max: 100\",\"devMsg\":\"Training datasets quota reached for Project id2223_mldl. Current: 100 Max: 100\",\"errorMsg\":\"Could not create training dataset\"}', error code: 270186, error msg: Could not create training dataset, user msg: Training datasets quota reached for Project id2223_mldl. Current: 100 Max: 100"
     ]
    }
   ],
   "source": [
    "X_train, X_test, y_train, y_test = feature_view.train_test_split(0.2)"
   ]
  },
  {
   "cell_type": "code",
   "execution_count": null,
   "id": "f44298db-ab7b-4019-a883-b6a85548724e",
   "metadata": {},
   "outputs": [],
   "source": [
    "from sklearn.preprocessing import StandardScaler\n",
    "ss = StandardScaler()\n",
    "X_train = ss.fit_transform(X_train)\n",
    "X_test = ss.transform(X_test)\n",
    "X_test"
   ]
  },
  {
   "cell_type": "code",
   "execution_count": null,
   "id": "01ef95e1-3bcc-4247-99ed-3179fde16e5e",
   "metadata": {},
   "outputs": [],
   "source": [
    "X_train"
   ]
  },
  {
   "cell_type": "code",
   "execution_count": null,
   "id": "a4baa83e-a437-4869-b00f-1ce22d6d0cec",
   "metadata": {},
   "outputs": [],
   "source": [
    "# from sklearn.ensemble import RandomForestClassifier\n",
    "# model = RandomForestClassifier(n_estimators=1000, max_depth=7, min_weight_fraction_leaf=0.00001)\n",
    "# model.fit(X_train, y_train)"
   ]
  },
  {
   "cell_type": "code",
   "execution_count": null,
   "id": "e8b33c8d-6522-47dc-982f-10b15c3190d3",
   "metadata": {},
   "outputs": [],
   "source": [
    "# from sklearn.ensemble import AdaBoostClassifier\n",
    "# model = AdaBoostClassifier(n_estimators=150, learning_rate=0.1)\n",
    "# model.fit(X_train, y_train)"
   ]
  },
  {
   "cell_type": "code",
   "execution_count": null,
   "id": "3a820b8b-855d-4dd9-97b6-7d2164414621",
   "metadata": {},
   "outputs": [],
   "source": [
    "# from sklearn.tree import DecisionTreeClassifier \n",
    "# model = DecisionTreeClassifier()\n",
    "# model.fit(X_train, y_train)"
   ]
  },
  {
   "cell_type": "code",
   "execution_count": null,
   "id": "792c45ec-62c0-4b96-a9da-ccafe93fb0e5",
   "metadata": {},
   "outputs": [],
   "source": [
    "from catboost import CatBoostClassifier\n",
    "model = CatBoostClassifier(iterations=4000, learning_rate=0.1, depth=4) #3000, 0.01, 5 == 0.56\n",
    "model.fit(X_train, y_train)"
   ]
  },
  {
   "cell_type": "code",
   "execution_count": null,
   "id": "546bb227-7d32-4a55-909a-d0cbde627b53",
   "metadata": {},
   "outputs": [],
   "source": [
    "# from sklearn.preprocessing import LabelEncoder\n",
    "# le = LabelEncoder()\n",
    "# y_train = le.fit_transform(y_train)\n",
    "# y_train"
   ]
  },
  {
   "cell_type": "code",
   "execution_count": null,
   "id": "8d317e78-693f-461a-8bd5-287c3a6f6771",
   "metadata": {},
   "outputs": [],
   "source": [
    "# y_test = le.transform(y_test)\n",
    "# y_test"
   ]
  },
  {
   "cell_type": "code",
   "execution_count": null,
   "id": "3db981ba-cfe5-4e72-bba1-84d99fb1a78b",
   "metadata": {},
   "outputs": [],
   "source": [
    "# # fit model no training data\n",
    "# import xgboost as xgb\n",
    "# model = xgb.XGBClassifier(n_estimators = 1300, learning_rate = 0.1, max_depth = 3)\n",
    "# model.fit(X_train, y_train)"
   ]
  },
  {
   "cell_type": "code",
   "execution_count": null,
   "id": "660f790d-7a68-43d0-8d70-a9ab4bd921c5",
   "metadata": {},
   "outputs": [],
   "source": [
    "#check X train\n",
    "y_pred = model.predict(X_train)\n",
    "results = confusion_matrix(y_train, y_pred)\n",
    "#consfision matrix\n",
    "df_cm = pd.DataFrame(results, [3 ,4 ,5 ,6, 7, 8, 9],\n",
    "                     [3 ,4 ,5, 6, 7, 8, 9])\n",
    "cm = sns.heatmap(df_cm, annot=True)\n",
    "fig = cm.get_figure()"
   ]
  },
  {
   "cell_type": "code",
   "execution_count": null,
   "id": "8787f01d-c26f-4b00-8484-25e96ed07f7c",
   "metadata": {},
   "outputs": [],
   "source": [
    "# Evaluate model performance using the features from the test set (X_test)\n",
    "y_pred = model.predict(X_test)\n",
    "# Compare predictions (y_pred) with the labels in the test set (y_test)\n",
    "metrics = classification_report(y_test, y_pred, output_dict=True)\n",
    "results = confusion_matrix(y_test, y_pred)\n",
    "results"
   ]
  },
  {
   "cell_type": "code",
   "execution_count": null,
   "id": "71837652-d2b9-4602-8b0d-e7a59d1707b3",
   "metadata": {},
   "outputs": [],
   "source": [
    "accuracy = accuracy_score(y_test, y_pred, normalize=True)\n",
    "accuracy"
   ]
  },
  {
   "cell_type": "code",
   "execution_count": null,
   "id": "1c9d27b5-06b8-4b99-85e1-7b681a0ce51c",
   "metadata": {},
   "outputs": [],
   "source": [
    "metrics = classification_report(y_test, y_pred, output_dict=True)\n",
    "results = confusion_matrix(y_test, y_pred)\n",
    "results"
   ]
  },
  {
   "cell_type": "code",
   "execution_count": null,
   "id": "7dacae0f-3dd5-49bb-8ea9-7a2a119a4ea1",
   "metadata": {},
   "outputs": [],
   "source": [
    "#print(metrics)\n",
    "metrics_df = pd.DataFrame(metrics).transpose()\n",
    "metrics_df"
   ]
  },
  {
   "cell_type": "code",
   "execution_count": null,
   "id": "f2e3684a-336a-45be-a8a9-f613a0d9cf05",
   "metadata": {},
   "outputs": [],
   "source": [
    "# Create the confusion matrix as a figure, we will later store it as a PNG image file\n",
    "df_cm = pd.DataFrame(results, [3 ,4 ,5 ,6, 7, 8, 9],\n",
    "                     [3 ,4 ,5, 6, 7, 8, 9])\n",
    "cm = sns.heatmap(df_cm, annot=True)\n",
    "fig = cm.get_figure()"
   ]
  },
  {
   "cell_type": "code",
   "execution_count": null,
   "id": "9ff266f8-5868-4035-bd69-c4c12a39b562",
   "metadata": {},
   "outputs": [],
   "source": [
    "# # We will now upload our model to the Hopsworks Model Registry. First get an object for the model registry.\n",
    "# mr = project.get_model_registry()"
   ]
  },
  {
   "cell_type": "code",
   "execution_count": null,
   "id": "670db878-6b02-448b-b6cd-7c82eac388b2",
   "metadata": {},
   "outputs": [],
   "source": [
    "# # The contents of the 'iris_model' directory will be saved to the model registry. Create the dir, first.\n",
    "# model_dir=\"winequality_model\"\n",
    "# if os.path.isdir(model_dir) == False:\n",
    "#     os.mkdir(model_dir)"
   ]
  },
  {
   "cell_type": "code",
   "execution_count": null,
   "id": "bca3ac40-7cd5-4f18-bfe4-b8bbf2a847e8",
   "metadata": {},
   "outputs": [],
   "source": [
    "# # Save both our model and the confusion matrix to 'model_dir', whose contents will be uploaded to the model registry\n",
    "# joblib.dump(model, model_dir + \"/winequality_model.pkl\")\n",
    "# fig.savefig(model_dir + \"/confusion_matrix.png\")"
   ]
  },
  {
   "cell_type": "code",
   "execution_count": null,
   "id": "5c140ae8-c40f-43f6-bd0b-5d8fd61afa41",
   "metadata": {},
   "outputs": [],
   "source": [
    "# # Specify the schema of the model's input/output using the features (X_train) and labels (y_train)\n",
    "# input_schema = Schema(X_train)\n",
    "# output_schema = Schema(y_train)\n",
    "# model_schema = ModelSchema(input_schema, output_schema)"
   ]
  },
  {
   "cell_type": "code",
   "execution_count": null,
   "id": "ac83eb73-2d23-4c51-b206-b009be64f348",
   "metadata": {},
   "outputs": [],
   "source": [
    "# # Create an entry in the model registry that includes the model's name, desc, metrics\n",
    "# wine_model = mr.python.create_model(\n",
    "#     name=\"winequality_model\", \n",
    "#     metrics={\"accuracy\" : metrics['accuracy']},\n",
    "#     model_schema=model_schema,\n",
    "#     description=\"Wine Quality Predictor\"\n",
    "# )"
   ]
  },
  {
   "cell_type": "code",
   "execution_count": null,
   "id": "7ab9a9ea-7ef9-43af-88bb-693a6f3af5c4",
   "metadata": {},
   "outputs": [],
   "source": [
    "# # Upload the model to the model registry, including all files in 'model_dir'\n",
    "# wine_model.save(model_dir)"
   ]
  }
 ],
 "metadata": {
  "kernelspec": {
   "display_name": "Python 3 (ipykernel)",
   "language": "python",
   "name": "python3"
  },
  "language_info": {
   "codemirror_mode": {
    "name": "ipython",
    "version": 3
   },
   "file_extension": ".py",
   "mimetype": "text/x-python",
   "name": "python",
   "nbconvert_exporter": "python",
   "pygments_lexer": "ipython3",
   "version": "3.10.0"
  }
 },
 "nbformat": 4,
 "nbformat_minor": 5
}
