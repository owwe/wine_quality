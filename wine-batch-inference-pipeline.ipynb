{
 "cells": [
  {
   "cell_type": "code",
   "execution_count": 2,
   "metadata": {},
   "outputs": [],
   "source": [
    "import pandas as pd\n",
    "import hopsworks\n",
    "import joblib\n",
    "import datetime\n",
    "from PIL import Image\n",
    "from datetime import datetime\n",
    "#import dataframe_image as dfi\n",
    "from sklearn.metrics import confusion_matrix\n",
    "from matplotlib import pyplot\n",
    "import seaborn as sns\n",
    "import requests\n",
    "import os\n",
    "from dotenv import load_dotenv"
   ]
  },
  {
   "cell_type": "code",
   "execution_count": 3,
   "metadata": {},
   "outputs": [],
   "source": [
    "load_dotenv()\n",
    "api_key = os.getenv(\"HOPSWORKS_API_KEY\")"
   ]
  },
  {
   "cell_type": "code",
   "execution_count": 4,
   "metadata": {},
   "outputs": [
    {
     "name": "stdout",
     "output_type": "stream",
     "text": [
      "Connected. Call `.close()` to terminate connection gracefully.\n",
      "\n",
      "Logged in to project, explore it here https://c.app.hopsworks.ai:443/p/206996\n",
      "Connected. Call `.close()` to terminate connection gracefully.\n"
     ]
    }
   ],
   "source": [
    "project = hopsworks.login(api_key_value=api_key, project=\"DD2223_lab1\")\n",
    "fs = project.get_feature_store()"
   ]
  },
  {
   "cell_type": "code",
   "execution_count": 5,
   "metadata": {},
   "outputs": [
    {
     "name": "stdout",
     "output_type": "stream",
     "text": [
      "Connected. Call `.close()` to terminate connection gracefully.\n",
      "Downloading file ... "
     ]
    }
   ],
   "source": [
    "mr = project.get_model_registry()\n",
    "model = mr.get_model(\"winequality_model\", version=1)\n",
    "model_dir = model.download()\n",
    "model = joblib.load(model_dir + \"/winequality_model.pkl\")"
   ]
  },
  {
   "cell_type": "code",
   "execution_count": 6,
   "metadata": {},
   "outputs": [
    {
     "name": "stdout",
     "output_type": "stream",
     "text": [
      "Finished: Reading data from Hopsworks, using ArrowFlight (1.06s) \n"
     ]
    },
    {
     "data": {
      "text/html": [
       "<div>\n",
       "<style scoped>\n",
       "    .dataframe tbody tr th:only-of-type {\n",
       "        vertical-align: middle;\n",
       "    }\n",
       "\n",
       "    .dataframe tbody tr th {\n",
       "        vertical-align: top;\n",
       "    }\n",
       "\n",
       "    .dataframe thead th {\n",
       "        text-align: right;\n",
       "    }\n",
       "</style>\n",
       "<table border=\"1\" class=\"dataframe\">\n",
       "  <thead>\n",
       "    <tr style=\"text-align: right;\">\n",
       "      <th></th>\n",
       "      <th>fixed_acidity</th>\n",
       "      <th>volatile_acidity</th>\n",
       "      <th>citric_acid</th>\n",
       "      <th>residual_sugar</th>\n",
       "      <th>chlorides</th>\n",
       "      <th>free_sulfur_dioxide</th>\n",
       "      <th>total_sulfur_dioxide</th>\n",
       "      <th>density</th>\n",
       "      <th>sulphates</th>\n",
       "      <th>alcohol</th>\n",
       "    </tr>\n",
       "  </thead>\n",
       "  <tbody>\n",
       "    <tr>\n",
       "      <th>0</th>\n",
       "      <td>6.000000</td>\n",
       "      <td>0.300000</td>\n",
       "      <td>0.440000</td>\n",
       "      <td>1.500000</td>\n",
       "      <td>0.046000</td>\n",
       "      <td>15.000000</td>\n",
       "      <td>182.000000</td>\n",
       "      <td>0.994550</td>\n",
       "      <td>0.520000</td>\n",
       "      <td>10.400000</td>\n",
       "    </tr>\n",
       "    <tr>\n",
       "      <th>1</th>\n",
       "      <td>6.700000</td>\n",
       "      <td>0.160000</td>\n",
       "      <td>0.640000</td>\n",
       "      <td>2.100000</td>\n",
       "      <td>0.059000</td>\n",
       "      <td>24.000000</td>\n",
       "      <td>52.000000</td>\n",
       "      <td>0.994940</td>\n",
       "      <td>0.710000</td>\n",
       "      <td>11.200000</td>\n",
       "    </tr>\n",
       "    <tr>\n",
       "      <th>2</th>\n",
       "      <td>5.800000</td>\n",
       "      <td>0.250000</td>\n",
       "      <td>0.240000</td>\n",
       "      <td>13.300000</td>\n",
       "      <td>0.044000</td>\n",
       "      <td>41.000000</td>\n",
       "      <td>137.000000</td>\n",
       "      <td>0.997200</td>\n",
       "      <td>0.420000</td>\n",
       "      <td>9.500000</td>\n",
       "    </tr>\n",
       "    <tr>\n",
       "      <th>3</th>\n",
       "      <td>6.800000</td>\n",
       "      <td>0.370000</td>\n",
       "      <td>0.280000</td>\n",
       "      <td>4.000000</td>\n",
       "      <td>0.030000</td>\n",
       "      <td>29.000000</td>\n",
       "      <td>79.000000</td>\n",
       "      <td>0.990000</td>\n",
       "      <td>0.460000</td>\n",
       "      <td>12.400000</td>\n",
       "    </tr>\n",
       "    <tr>\n",
       "      <th>4</th>\n",
       "      <td>6.400000</td>\n",
       "      <td>0.180000</td>\n",
       "      <td>0.740000</td>\n",
       "      <td>11.900000</td>\n",
       "      <td>0.046000</td>\n",
       "      <td>54.000000</td>\n",
       "      <td>168.000000</td>\n",
       "      <td>0.997800</td>\n",
       "      <td>0.680000</td>\n",
       "      <td>10.100000</td>\n",
       "    </tr>\n",
       "    <tr>\n",
       "      <th>...</th>\n",
       "      <td>...</td>\n",
       "      <td>...</td>\n",
       "      <td>...</td>\n",
       "      <td>...</td>\n",
       "      <td>...</td>\n",
       "      <td>...</td>\n",
       "      <td>...</td>\n",
       "      <td>...</td>\n",
       "      <td>...</td>\n",
       "      <td>...</td>\n",
       "    </tr>\n",
       "    <tr>\n",
       "      <th>5340</th>\n",
       "      <td>9.224999</td>\n",
       "      <td>0.715040</td>\n",
       "      <td>0.030188</td>\n",
       "      <td>1.593261</td>\n",
       "      <td>0.140201</td>\n",
       "      <td>21.893136</td>\n",
       "      <td>111.642616</td>\n",
       "      <td>0.998551</td>\n",
       "      <td>0.467593</td>\n",
       "      <td>12.487485</td>\n",
       "    </tr>\n",
       "    <tr>\n",
       "      <th>5341</th>\n",
       "      <td>7.475973</td>\n",
       "      <td>0.200610</td>\n",
       "      <td>0.250024</td>\n",
       "      <td>2.732909</td>\n",
       "      <td>0.063825</td>\n",
       "      <td>10.374772</td>\n",
       "      <td>224.148340</td>\n",
       "      <td>0.997005</td>\n",
       "      <td>0.355702</td>\n",
       "      <td>11.927322</td>\n",
       "    </tr>\n",
       "    <tr>\n",
       "      <th>5342</th>\n",
       "      <td>9.853002</td>\n",
       "      <td>0.567981</td>\n",
       "      <td>0.467518</td>\n",
       "      <td>1.716121</td>\n",
       "      <td>0.182976</td>\n",
       "      <td>75.829273</td>\n",
       "      <td>278.944598</td>\n",
       "      <td>0.992833</td>\n",
       "      <td>0.509459</td>\n",
       "      <td>9.427214</td>\n",
       "    </tr>\n",
       "    <tr>\n",
       "      <th>5343</th>\n",
       "      <td>7.086754</td>\n",
       "      <td>0.095832</td>\n",
       "      <td>0.266382</td>\n",
       "      <td>14.440467</td>\n",
       "      <td>0.060845</td>\n",
       "      <td>66.209193</td>\n",
       "      <td>144.291661</td>\n",
       "      <td>0.996702</td>\n",
       "      <td>0.510777</td>\n",
       "      <td>8.591764</td>\n",
       "    </tr>\n",
       "    <tr>\n",
       "      <th>5344</th>\n",
       "      <td>5.984543</td>\n",
       "      <td>0.466676</td>\n",
       "      <td>0.496500</td>\n",
       "      <td>4.247897</td>\n",
       "      <td>0.219362</td>\n",
       "      <td>41.416985</td>\n",
       "      <td>12.246725</td>\n",
       "      <td>0.995408</td>\n",
       "      <td>0.531956</td>\n",
       "      <td>11.480249</td>\n",
       "    </tr>\n",
       "  </tbody>\n",
       "</table>\n",
       "<p>5345 rows × 10 columns</p>\n",
       "</div>"
      ],
      "text/plain": [
       "      fixed_acidity  volatile_acidity  citric_acid  residual_sugar  chlorides  \\\n",
       "0          6.000000          0.300000     0.440000        1.500000   0.046000   \n",
       "1          6.700000          0.160000     0.640000        2.100000   0.059000   \n",
       "2          5.800000          0.250000     0.240000       13.300000   0.044000   \n",
       "3          6.800000          0.370000     0.280000        4.000000   0.030000   \n",
       "4          6.400000          0.180000     0.740000       11.900000   0.046000   \n",
       "...             ...               ...          ...             ...        ...   \n",
       "5340       9.224999          0.715040     0.030188        1.593261   0.140201   \n",
       "5341       7.475973          0.200610     0.250024        2.732909   0.063825   \n",
       "5342       9.853002          0.567981     0.467518        1.716121   0.182976   \n",
       "5343       7.086754          0.095832     0.266382       14.440467   0.060845   \n",
       "5344       5.984543          0.466676     0.496500        4.247897   0.219362   \n",
       "\n",
       "      free_sulfur_dioxide  total_sulfur_dioxide   density  sulphates  \\\n",
       "0               15.000000            182.000000  0.994550   0.520000   \n",
       "1               24.000000             52.000000  0.994940   0.710000   \n",
       "2               41.000000            137.000000  0.997200   0.420000   \n",
       "3               29.000000             79.000000  0.990000   0.460000   \n",
       "4               54.000000            168.000000  0.997800   0.680000   \n",
       "...                   ...                   ...       ...        ...   \n",
       "5340            21.893136            111.642616  0.998551   0.467593   \n",
       "5341            10.374772            224.148340  0.997005   0.355702   \n",
       "5342            75.829273            278.944598  0.992833   0.509459   \n",
       "5343            66.209193            144.291661  0.996702   0.510777   \n",
       "5344            41.416985             12.246725  0.995408   0.531956   \n",
       "\n",
       "        alcohol  \n",
       "0     10.400000  \n",
       "1     11.200000  \n",
       "2      9.500000  \n",
       "3     12.400000  \n",
       "4     10.100000  \n",
       "...         ...  \n",
       "5340  12.487485  \n",
       "5341  11.927322  \n",
       "5342   9.427214  \n",
       "5343   8.591764  \n",
       "5344  11.480249  \n",
       "\n",
       "[5345 rows x 10 columns]"
      ]
     },
     "execution_count": 6,
     "metadata": {},
     "output_type": "execute_result"
    }
   ],
   "source": [
    "feature_view = fs.get_feature_view(name=\"wine_quality\", version=1)\n",
    "batch_data = feature_view.get_batch_data()\n",
    "batch_data"
   ]
  },
  {
   "cell_type": "code",
   "execution_count": 7,
   "metadata": {},
   "outputs": [
    {
     "name": "stdout",
     "output_type": "stream",
     "text": [
      "Predicted wine quality: 6\n"
     ]
    }
   ],
   "source": [
    "y_pred = model.predict(batch_data)\n",
    "#print(y_pred)\n",
    "offset = 1\n",
    "wine = y_pred[y_pred.size-offset]\n",
    "print(\"Predicted wine quality: \" + str(int(wine) + 3))"
   ]
  },
  {
   "cell_type": "code",
   "execution_count": 8,
   "metadata": {},
   "outputs": [
    {
     "name": "stdout",
     "output_type": "stream",
     "text": [
      "The file 'wine_latest' already exists. Overwriting...\n"
     ]
    },
    {
     "data": {
      "application/vnd.jupyter.widget-view+json": {
       "model_id": "833ec6348d23489c8b0f28371fa5d8d2",
       "version_major": 2,
       "version_minor": 0
      },
      "text/plain": [
       "Uploading: 0.000%|          | 0/1 elapsed<00:00 remaining<?"
      ]
     },
     "metadata": {},
     "output_type": "display_data"
    },
    {
     "data": {
      "text/plain": [
       "'Resources/images/latest_wine.txt'"
      ]
     },
     "execution_count": 8,
     "metadata": {},
     "output_type": "execute_result"
    }
   ],
   "source": [
    "wine_latest=\"latest_wine.txt\"\n",
    "if os.path.exists(wine_latest):\n",
    "    print(f\"The file 'wine_latest' already exists. Overwriting...\")\n",
    "\n",
    "# Open the file in write mode, this will create the file if it doesn't exist\n",
    "with open(wine_latest, 'w') as file:\n",
    "    file.write(str(int(wine) + 3))\n",
    "\n",
    "dataset_api = project.get_dataset_api()    \n",
    "dataset_api.upload(\"./latest_wine.txt\", \"Resources/images\", overwrite=True)"
   ]
  },
  {
   "cell_type": "code",
   "execution_count": 9,
   "metadata": {},
   "outputs": [
    {
     "name": "stdout",
     "output_type": "stream",
     "text": [
      "[2 3 2 ... 2 5 3]\n"
     ]
    }
   ],
   "source": [
    "print(y_pred)"
   ]
  },
  {
   "cell_type": "code",
   "execution_count": 10,
   "metadata": {},
   "outputs": [
    {
     "name": "stdout",
     "output_type": "stream",
     "text": [
      "Finished: Reading data from Hopsworks, using ArrowFlight (1.17s) \n",
      "Actual wine quality: 5\n",
      "The file 'wine_latest' already exists. Overwriting...\n"
     ]
    },
    {
     "data": {
      "application/vnd.jupyter.widget-view+json": {
       "model_id": "e56bb6ca6b33434bba92ea16e82a9cd9",
       "version_major": 2,
       "version_minor": 0
      },
      "text/plain": [
       "Uploading: 0.000%|          | 0/1 elapsed<00:00 remaining<?"
      ]
     },
     "metadata": {},
     "output_type": "display_data"
    },
    {
     "data": {
      "text/plain": [
       "'Resources/images/actual_wine.txt'"
      ]
     },
     "execution_count": 10,
     "metadata": {},
     "output_type": "execute_result"
    }
   ],
   "source": [
    "wine_fg = fs.get_feature_group(name=\"wine_quality\", version=1)\n",
    "df = wine_fg.read() \n",
    "#print(df)\n",
    "label = df.iloc[-offset][\"quality\"]\n",
    "print(\"Actual wine quality: \" + str(int(label)))\n",
    "\n",
    "wine_actual=\"actual_wine.txt\"\n",
    "if os.path.exists(wine_latest):\n",
    "    print(f\"The file 'wine_latest' already exists. Overwriting...\")\n",
    "\n",
    "# Open the file in write mode, this will create the file if it doesn't exist\n",
    "with open(wine_actual, 'w') as file:\n",
    "    file.write(str(int(label)))\n",
    "\n",
    "dataset_api.upload(\"./actual_wine.txt\", \"Resources/images\", overwrite=True)"
   ]
  },
  {
   "cell_type": "code",
   "execution_count": 11,
   "metadata": {},
   "outputs": [],
   "source": [
    "monitor_fg = fs.get_or_create_feature_group(name=\"wine_quality_predictions\",\n",
    "                                            version=1,\n",
    "                                            primary_key=[\"datetime\"],\n",
    "                                            description=\"Wine Quality Prediction/Outcome Monitoring\"\n",
    "                                            )\n",
    "\n",
    "now = datetime.now().strftime(\"%m/%d/%Y, %H:%M:%S\")"
   ]
  },
  {
   "cell_type": "code",
   "execution_count": 12,
   "metadata": {},
   "outputs": [
    {
     "data": {
      "text/plain": [
       "{'prediction': [6], 'label': [5], 'datetime': ['11/21/2023, 00:17:22']}"
      ]
     },
     "execution_count": 12,
     "metadata": {},
     "output_type": "execute_result"
    }
   ],
   "source": [
    "data = {\n",
    "    'prediction': [int(wine) + 3],\n",
    "    'label': [int(label)],\n",
    "    'datetime': [now],\n",
    "    }\n",
    "data"
   ]
  },
  {
   "cell_type": "code",
   "execution_count": 13,
   "metadata": {},
   "outputs": [
    {
     "data": {
      "application/vnd.jupyter.widget-view+json": {
       "model_id": "ea9a52843bdc41b3a2f75681b3f063ed",
       "version_major": 2,
       "version_minor": 0
      },
      "text/plain": [
       "Uploading Dataframe: 0.00% |          | Rows 0/1 | Elapsed Time: 00:00 | Remaining Time: ?"
      ]
     },
     "metadata": {},
     "output_type": "display_data"
    },
    {
     "name": "stdout",
     "output_type": "stream",
     "text": [
      "Launching job: wine_quality_predictions_1_offline_fg_materialization\n",
      "Job started successfully, you can follow the progress at \n",
      "https://c.app.hopsworks.ai/p/206996/jobs/named/wine_quality_predictions_1_offline_fg_materialization/executions\n",
      "Finished: Reading data from Hopsworks, using ArrowFlight (0.70s) \n"
     ]
    }
   ],
   "source": [
    "monitor_df = pd.DataFrame(data)\n",
    "monitor_fg.insert(monitor_df, write_options={\"wait_for_job\" : False})\n",
    "\n",
    "history_df = monitor_fg.read()\n",
    "# Add our prediction to the history, as the history_df won't have it - \n",
    "# the insertion was done asynchronously, so it will take ~1 min to land on App\n",
    "history_df = pd.concat([history_df, monitor_df])"
   ]
  },
  {
   "cell_type": "code",
   "execution_count": 14,
   "metadata": {},
   "outputs": [
    {
     "data": {
      "image/png": "[encoded data removed]",
      "text/plain": [
       "<Figure size 800x400 with 1 Axes>"
      ]
     },
     "metadata": {},
     "output_type": "display_data"
    }
   ],
   "source": [
    "#import dataframe_image as dfi\n",
    "import matplotlib.pyplot as plt\n",
    "df_recent = history_df.tail(6)\n",
    "fig, ax = plt.subplots(figsize=(8, 4))\n",
    "ax.axis('tight')\n",
    "ax.axis('off')\n",
    "ax.table(cellText=df_recent.values, colLabels=df_recent.columns, cellLoc = 'center', loc='center')\n",
    "\n",
    "# Save the plot as an image\n",
    "plt.savefig('./df_recent.png')\n",
    "\n",
    "# Optionally, you can also display the plot\n",
    "plt.show()\n",
    "#dfi.export(df_recent, './df_recent.png', table_conversion = 'matplotlib')\n"
   ]
  },
  {
   "cell_type": "code",
   "execution_count": 15,
   "metadata": {},
   "outputs": [
    {
     "data": {
      "application/vnd.jupyter.widget-view+json": {
       "model_id": "c7a0a589b0864d6a8ada59de34b7c793",
       "version_major": 2,
       "version_minor": 0
      },
      "text/plain": [
       "Uploading: 0.000%|          | 0/24523 elapsed<00:00 remaining<?"
      ]
     },
     "metadata": {},
     "output_type": "display_data"
    },
    {
     "data": {
      "text/plain": [
       "'Resources/images/df_recent.png'"
      ]
     },
     "execution_count": 15,
     "metadata": {},
     "output_type": "execute_result"
    }
   ],
   "source": [
    "dataset_api.upload(\"./df_recent.png\", \"Resources/images\", overwrite=True)"
   ]
  },
  {
   "cell_type": "code",
   "execution_count": 16,
   "metadata": {},
   "outputs": [
    {
     "data": {
      "text/plain": [
       "prediction\n",
       "6             13\n",
       "5              9\n",
       "Name: count, dtype: int64"
      ]
     },
     "execution_count": 16,
     "metadata": {},
     "output_type": "execute_result"
    }
   ],
   "source": [
    "predictions = history_df[['prediction']]\n",
    "labels = history_df[['label']]\n",
    "predictions.value_counts()"
   ]
  },
  {
   "cell_type": "code",
   "execution_count": 17,
   "metadata": {},
   "outputs": [
    {
     "name": "stdout",
     "output_type": "stream",
     "text": [
      "Number of different wine quality predictions to date: 2\n"
     ]
    }
   ],
   "source": [
    "predictions = history_df[['prediction']]\n",
    "labels = history_df[['label']]\n",
    "\n",
    "# Only create the confusion matrix when our wine_quality_predictions feature group has examples of all 7 qualities\n",
    "print(\"Number of different wine quality predictions to date: \" + str(predictions.value_counts().count()))"
   ]
  },
  {
   "cell_type": "code",
   "execution_count": 21,
   "metadata": {},
   "outputs": [
    {
     "data": {
      "text/plain": [
       "prediction\n",
       "6             13\n",
       "5              9\n",
       "Name: count, dtype: int64"
      ]
     },
     "execution_count": 21,
     "metadata": {},
     "output_type": "execute_result"
    }
   ],
   "source": [
    "predictions.value_counts()"
   ]
  },
  {
   "cell_type": "code",
   "execution_count": 22,
   "metadata": {},
   "outputs": [
    {
     "data": {
      "application/vnd.jupyter.widget-view+json": {
       "model_id": "bb9a5d2854a74c42ac7fd51c3537e6a5",
       "version_major": 2,
       "version_minor": 0
      },
      "text/plain": [
       "Uploading: 0.000%|          | 0/17656 elapsed<00:00 remaining<?"
      ]
     },
     "metadata": {},
     "output_type": "display_data"
    },
    {
     "data": {
      "text/plain": [
       "'Resources/images/wine_confusion_matrix.png'"
      ]
     },
     "execution_count": 22,
     "metadata": {},
     "output_type": "execute_result"
    },
    {
     "data": {
      "image/png": "[encoded data removed]",
      "text/plain": [
       "<Figure size 640x480 with 2 Axes>"
      ]
     },
     "metadata": {},
     "output_type": "display_data"
    }
   ],
   "source": [
    "\n",
    "#if predictions.value_counts().count() == 7:\n",
    "results = confusion_matrix(labels, predictions)\n",
    "df_cm = pd.DataFrame(results, [3, 4, 5, 6, 7, 8, 9],\n",
    "                        [3, 4, 5, 6, 7, 8, 9])\n",
    "\n",
    "cm = sns.heatmap(df_cm, annot=True)\n",
    "fig = cm.get_figure()\n",
    "fig.savefig(\"./wine_confusion_matrix.png\")\n",
    "dataset_api.upload(\"./wine_confusion_matrix.png\", \"Resources/images\", overwrite=True)\n",
    "# else:\n",
    "#     print(\"You need 7 different wine quality predictions to create the confusion matrix.\")\n",
    "#     print(\"Run the batch inference pipeline more times until you get 7 different wine quality predictions\") "
   ]
  },
  {
   "cell_type": "code",
   "execution_count": null,
   "metadata": {},
   "outputs": [],
   "source": []
  }
 ],
 "metadata": {
  "kernelspec": {
   "display_name": "Python 3.10.0 ('labenv')",
   "language": "python",
   "name": "python3"
  },
  "language_info": {
   "codemirror_mode": {
    "name": "ipython",
    "version": 3
   },
   "file_extension": ".py",
   "mimetype": "text/x-python",
   "name": "python",
   "nbconvert_exporter": "python",
   "pygments_lexer": "ipython3",
   "version": "3.10.0"
  },
  "orig_nbformat": 4,
  "vscode": {
   "interpreter": {
    "hash": "97f64928418ea14f740effb4d9ace101d8c0b92fb04fd49be3bdba4a017cbbe9"
   }
  }
 },
 "nbformat": 4,
 "nbformat_minor": 2
}
