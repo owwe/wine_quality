{
 "cells": [
  {
   "cell_type": "code",
   "execution_count": 2,
   "metadata": {},
   "outputs": [],
   "source": [
    "import pandas as pd\n",
    "import hopsworks\n",
    "import joblib\n",
    "import datetime\n",
    "from PIL import Image\n",
    "from datetime import datetime\n",
    "#import dataframe_image as dfi\n",
    "from sklearn.metrics import confusion_matrix\n",
    "from matplotlib import pyplot\n",
    "import seaborn as sns\n",
    "import requests\n",
    "import os\n",
    "from dotenv import load_dotenv"
   ]
  },
  {
   "cell_type": "code",
   "execution_count": 3,
   "metadata": {},
   "outputs": [],
   "source": [
    "load_dotenv()\n",
    "api_key = os.getenv(\"HOPSWORKS_API_KEY\")"
   ]
  },
  {
   "cell_type": "code",
   "execution_count": 4,
   "metadata": {},
   "outputs": [
    {
     "name": "stdout",
     "output_type": "stream",
     "text": [
      "Connected. Call `.close()` to terminate connection gracefully.\n",
      "\n",
      "Logged in to project, explore it here https://c.app.hopsworks.ai:443/p/206996\n",
      "Connected. Call `.close()` to terminate connection gracefully.\n"
     ]
    }
   ],
   "source": [
    "project = hopsworks.login(api_key_value=api_key, project=\"DD2223_lab1\")\n",
    "fs = project.get_feature_store()"
   ]
  },
  {
   "cell_type": "code",
   "execution_count": 5,
   "metadata": {},
   "outputs": [
    {
     "name": "stdout",
     "output_type": "stream",
     "text": [
      "Connected. Call `.close()` to terminate connection gracefully.\n",
      "Downloading file ... "
     ]
    }
   ],
   "source": [
    "mr = project.get_model_registry()\n",
    "model = mr.get_model(\"winequality_model\", version=1)\n",
    "model_dir = model.download()\n",
    "model = joblib.load(model_dir + \"/winequality_model.pkl\")"
   ]
  },
  {
   "cell_type": "code",
   "execution_count": 6,
   "metadata": {},
   "outputs": [
    {
     "name": "stdout",
     "output_type": "stream",
     "text": [
      "Finished: Reading data from Hopsworks, using ArrowFlight (2.13s) \n"
     ]
    },
    {
     "data": {
      "text/html": [
       "<div>\n",
       "<style scoped>\n",
       "    .dataframe tbody tr th:only-of-type {\n",
       "        vertical-align: middle;\n",
       "    }\n",
       "\n",
       "    .dataframe tbody tr th {\n",
       "        vertical-align: top;\n",
       "    }\n",
       "\n",
       "    .dataframe thead th {\n",
       "        text-align: right;\n",
       "    }\n",
       "</style>\n",
       "<table border=\"1\" class=\"dataframe\">\n",
       "  <thead>\n",
       "    <tr style=\"text-align: right;\">\n",
       "      <th></th>\n",
       "      <th>fixed_acidity</th>\n",
       "      <th>volatile_acidity</th>\n",
       "      <th>citric_acid</th>\n",
       "      <th>residual_sugar</th>\n",
       "      <th>chlorides</th>\n",
       "      <th>free_sulfur_dioxide</th>\n",
       "      <th>total_sulfur_dioxide</th>\n",
       "      <th>density</th>\n",
       "      <th>sulphates</th>\n",
       "      <th>alcohol</th>\n",
       "    </tr>\n",
       "  </thead>\n",
       "  <tbody>\n",
       "    <tr>\n",
       "      <th>0</th>\n",
       "      <td>6.000000</td>\n",
       "      <td>0.300000</td>\n",
       "      <td>0.440000</td>\n",
       "      <td>1.500000</td>\n",
       "      <td>0.046000</td>\n",
       "      <td>15.000000</td>\n",
       "      <td>182.000000</td>\n",
       "      <td>0.994550</td>\n",
       "      <td>0.520000</td>\n",
       "      <td>10.400000</td>\n",
       "    </tr>\n",
       "    <tr>\n",
       "      <th>1</th>\n",
       "      <td>6.700000</td>\n",
       "      <td>0.160000</td>\n",
       "      <td>0.640000</td>\n",
       "      <td>2.100000</td>\n",
       "      <td>0.059000</td>\n",
       "      <td>24.000000</td>\n",
       "      <td>52.000000</td>\n",
       "      <td>0.994940</td>\n",
       "      <td>0.710000</td>\n",
       "      <td>11.200000</td>\n",
       "    </tr>\n",
       "    <tr>\n",
       "      <th>2</th>\n",
       "      <td>5.800000</td>\n",
       "      <td>0.250000</td>\n",
       "      <td>0.240000</td>\n",
       "      <td>13.300000</td>\n",
       "      <td>0.044000</td>\n",
       "      <td>41.000000</td>\n",
       "      <td>137.000000</td>\n",
       "      <td>0.997200</td>\n",
       "      <td>0.420000</td>\n",
       "      <td>9.500000</td>\n",
       "    </tr>\n",
       "    <tr>\n",
       "      <th>3</th>\n",
       "      <td>6.800000</td>\n",
       "      <td>0.370000</td>\n",
       "      <td>0.280000</td>\n",
       "      <td>4.000000</td>\n",
       "      <td>0.030000</td>\n",
       "      <td>29.000000</td>\n",
       "      <td>79.000000</td>\n",
       "      <td>0.990000</td>\n",
       "      <td>0.460000</td>\n",
       "      <td>12.400000</td>\n",
       "    </tr>\n",
       "    <tr>\n",
       "      <th>4</th>\n",
       "      <td>6.400000</td>\n",
       "      <td>0.180000</td>\n",
       "      <td>0.740000</td>\n",
       "      <td>11.900000</td>\n",
       "      <td>0.046000</td>\n",
       "      <td>54.000000</td>\n",
       "      <td>168.000000</td>\n",
       "      <td>0.997800</td>\n",
       "      <td>0.680000</td>\n",
       "      <td>10.100000</td>\n",
       "    </tr>\n",
       "    <tr>\n",
       "      <th>...</th>\n",
       "      <td>...</td>\n",
       "      <td>...</td>\n",
       "      <td>...</td>\n",
       "      <td>...</td>\n",
       "      <td>...</td>\n",
       "      <td>...</td>\n",
       "      <td>...</td>\n",
       "      <td>...</td>\n",
       "      <td>...</td>\n",
       "      <td>...</td>\n",
       "    </tr>\n",
       "    <tr>\n",
       "      <th>5323</th>\n",
       "      <td>7.200000</td>\n",
       "      <td>0.200000</td>\n",
       "      <td>0.300000</td>\n",
       "      <td>2.000000</td>\n",
       "      <td>0.039000</td>\n",
       "      <td>43.000000</td>\n",
       "      <td>188.000000</td>\n",
       "      <td>0.991100</td>\n",
       "      <td>0.410000</td>\n",
       "      <td>12.000000</td>\n",
       "    </tr>\n",
       "    <tr>\n",
       "      <th>5324</th>\n",
       "      <td>5.700000</td>\n",
       "      <td>0.280000</td>\n",
       "      <td>0.240000</td>\n",
       "      <td>17.500000</td>\n",
       "      <td>0.044000</td>\n",
       "      <td>60.000000</td>\n",
       "      <td>167.000000</td>\n",
       "      <td>0.998900</td>\n",
       "      <td>0.440000</td>\n",
       "      <td>9.400000</td>\n",
       "    </tr>\n",
       "    <tr>\n",
       "      <th>5325</th>\n",
       "      <td>7.907376</td>\n",
       "      <td>1.097791</td>\n",
       "      <td>0.141343</td>\n",
       "      <td>10.982745</td>\n",
       "      <td>0.047351</td>\n",
       "      <td>4.272323</td>\n",
       "      <td>241.609802</td>\n",
       "      <td>0.999704</td>\n",
       "      <td>0.572527</td>\n",
       "      <td>10.824324</td>\n",
       "    </tr>\n",
       "    <tr>\n",
       "      <th>5326</th>\n",
       "      <td>6.402284</td>\n",
       "      <td>0.867279</td>\n",
       "      <td>0.281096</td>\n",
       "      <td>2.361481</td>\n",
       "      <td>0.066347</td>\n",
       "      <td>77.062305</td>\n",
       "      <td>316.245019</td>\n",
       "      <td>0.991948</td>\n",
       "      <td>0.525953</td>\n",
       "      <td>11.197392</td>\n",
       "    </tr>\n",
       "    <tr>\n",
       "      <th>5327</th>\n",
       "      <td>8.444407</td>\n",
       "      <td>0.474015</td>\n",
       "      <td>0.128393</td>\n",
       "      <td>6.050984</td>\n",
       "      <td>0.000958</td>\n",
       "      <td>1.309348</td>\n",
       "      <td>318.990335</td>\n",
       "      <td>0.995013</td>\n",
       "      <td>0.340808</td>\n",
       "      <td>9.714369</td>\n",
       "    </tr>\n",
       "  </tbody>\n",
       "</table>\n",
       "<p>5328 rows × 10 columns</p>\n",
       "</div>"
      ],
      "text/plain": [
       "      fixed_acidity  volatile_acidity  citric_acid  residual_sugar  chlorides  \\\n",
       "0          6.000000          0.300000     0.440000        1.500000   0.046000   \n",
       "1          6.700000          0.160000     0.640000        2.100000   0.059000   \n",
       "2          5.800000          0.250000     0.240000       13.300000   0.044000   \n",
       "3          6.800000          0.370000     0.280000        4.000000   0.030000   \n",
       "4          6.400000          0.180000     0.740000       11.900000   0.046000   \n",
       "...             ...               ...          ...             ...        ...   \n",
       "5323       7.200000          0.200000     0.300000        2.000000   0.039000   \n",
       "5324       5.700000          0.280000     0.240000       17.500000   0.044000   \n",
       "5325       7.907376          1.097791     0.141343       10.982745   0.047351   \n",
       "5326       6.402284          0.867279     0.281096        2.361481   0.066347   \n",
       "5327       8.444407          0.474015     0.128393        6.050984   0.000958   \n",
       "\n",
       "      free_sulfur_dioxide  total_sulfur_dioxide   density  sulphates  \\\n",
       "0               15.000000            182.000000  0.994550   0.520000   \n",
       "1               24.000000             52.000000  0.994940   0.710000   \n",
       "2               41.000000            137.000000  0.997200   0.420000   \n",
       "3               29.000000             79.000000  0.990000   0.460000   \n",
       "4               54.000000            168.000000  0.997800   0.680000   \n",
       "...                   ...                   ...       ...        ...   \n",
       "5323            43.000000            188.000000  0.991100   0.410000   \n",
       "5324            60.000000            167.000000  0.998900   0.440000   \n",
       "5325             4.272323            241.609802  0.999704   0.572527   \n",
       "5326            77.062305            316.245019  0.991948   0.525953   \n",
       "5327             1.309348            318.990335  0.995013   0.340808   \n",
       "\n",
       "        alcohol  \n",
       "0     10.400000  \n",
       "1     11.200000  \n",
       "2      9.500000  \n",
       "3     12.400000  \n",
       "4     10.100000  \n",
       "...         ...  \n",
       "5323  12.000000  \n",
       "5324   9.400000  \n",
       "5325  10.824324  \n",
       "5326  11.197392  \n",
       "5327   9.714369  \n",
       "\n",
       "[5328 rows x 10 columns]"
      ]
     },
     "execution_count": 6,
     "metadata": {},
     "output_type": "execute_result"
    }
   ],
   "source": [
    "feature_view = fs.get_feature_view(name=\"wine_quality\", version=1)\n",
    "batch_data = feature_view.get_batch_data()\n",
    "batch_data"
   ]
  },
  {
   "cell_type": "code",
   "execution_count": 11,
   "metadata": {},
   "outputs": [
    {
     "name": "stdout",
     "output_type": "stream",
     "text": [
      "Predicted wine quality: 5\n"
     ]
    }
   ],
   "source": [
    "y_pred = model.predict(batch_data)\n",
    "#print(y_pred)\n",
    "offset = 1\n",
    "wine = y_pred[y_pred.size-offset]\n",
    "print(\"Predicted wine quality: \" + str(int(wine) + 3))"
   ]
  },
  {
   "cell_type": "code",
   "execution_count": 12,
   "metadata": {},
   "outputs": [
    {
     "data": {
      "application/vnd.jupyter.widget-view+json": {
       "model_id": "4eda7426bcf44cd49a98062cc1328dd8",
       "version_major": 2,
       "version_minor": 0
      },
      "text/plain": [
       "Uploading: 0.000%|          | 0/1 elapsed<00:00 remaining<?"
      ]
     },
     "metadata": {},
     "output_type": "display_data"
    },
    {
     "data": {
      "text/plain": [
       "'Resources/images/latest_wine.txt'"
      ]
     },
     "execution_count": 12,
     "metadata": {},
     "output_type": "execute_result"
    }
   ],
   "source": [
    "wine_latest=\"latest_wine.txt\"\n",
    "if os.path.exists(wine_latest):\n",
    "    print(f\"The file 'wine_latest' already exists. Overwriting...\")\n",
    "\n",
    "# Open the file in write mode, this will create the file if it doesn't exist\n",
    "with open(wine_latest, 'w') as file:\n",
    "    file.write(str(int(wine) + 3))\n",
    "\n",
    "dataset_api = project.get_dataset_api()    \n",
    "dataset_api.upload(\"./latest_wine.txt\", \"Resources/images\", overwrite=True)"
   ]
  },
  {
   "cell_type": "code",
   "execution_count": 13,
   "metadata": {},
   "outputs": [
    {
     "name": "stdout",
     "output_type": "stream",
     "text": [
      "[2 3 2 ... 2 2 2]\n"
     ]
    }
   ],
   "source": [
    "print(y_pred)"
   ]
  },
  {
   "cell_type": "code",
   "execution_count": 15,
   "metadata": {},
   "outputs": [
    {
     "name": "stdout",
     "output_type": "stream",
     "text": [
      "Finished: Reading data from Hopsworks, using ArrowFlight (1.76s) \n",
      "Actual wine quality: 8\n",
      "The file 'wine_latest' already exists. Overwriting...\n"
     ]
    },
    {
     "data": {
      "application/vnd.jupyter.widget-view+json": {
       "model_id": "98a5933ae80d47c7b81768b8aaa53393",
       "version_major": 2,
       "version_minor": 0
      },
      "text/plain": [
       "Uploading: 0.000%|          | 0/1 elapsed<00:00 remaining<?"
      ]
     },
     "metadata": {},
     "output_type": "display_data"
    },
    {
     "data": {
      "text/plain": [
       "'Resources/images/actual_wine.txt'"
      ]
     },
     "execution_count": 15,
     "metadata": {},
     "output_type": "execute_result"
    }
   ],
   "source": [
    "wine_fg = fs.get_feature_group(name=\"wine_quality\", version=1)\n",
    "df = wine_fg.read() \n",
    "#print(df)\n",
    "label = df.iloc[-offset][\"quality\"]\n",
    "print(\"Actual wine quality: \" + str(int(label)))\n",
    "\n",
    "wine_actual=\"actual_wine.txt\"\n",
    "if os.path.exists(wine_latest):\n",
    "    print(f\"The file 'wine_latest' already exists. Overwriting...\")\n",
    "\n",
    "# Open the file in write mode, this will create the file if it doesn't exist\n",
    "with open(wine_actual, 'w') as file:\n",
    "    file.write(str(int(label)))\n",
    "\n",
    "dataset_api.upload(\"./actual_wine.txt\", \"Resources/images\", overwrite=True)"
   ]
  },
  {
   "cell_type": "code",
   "execution_count": 18,
   "metadata": {},
   "outputs": [],
   "source": [
    "monitor_fg = fs.get_or_create_feature_group(name=\"wine_quality_predictions\",\n",
    "                                            version=1,\n",
    "                                            primary_key=[\"datetime\"],\n",
    "                                            description=\"Wine Quality Prediction/Outcome Monitoring\"\n",
    "                                            )\n",
    "\n",
    "now = datetime.now().strftime(\"%m/%d/%Y, %H:%M:%S\")"
   ]
  },
  {
   "cell_type": "code",
   "execution_count": 20,
   "metadata": {},
   "outputs": [
    {
     "data": {
      "text/plain": [
       "{'prediction': [5], 'label': [8], 'datetime': ['11/20/2023, 19:21:52']}"
      ]
     },
     "execution_count": 20,
     "metadata": {},
     "output_type": "execute_result"
    }
   ],
   "source": [
    "data = {\n",
    "    'prediction': [int(wine) + 3],\n",
    "    'label': [int(label)],\n",
    "    'datetime': [now],\n",
    "    }\n",
    "data"
   ]
  },
  {
   "cell_type": "code",
   "execution_count": 21,
   "metadata": {},
   "outputs": [
    {
     "data": {
      "application/vnd.jupyter.widget-view+json": {
       "model_id": "d4166e38c15a440dbf5c15068bf2e606",
       "version_major": 2,
       "version_minor": 0
      },
      "text/plain": [
       "Uploading Dataframe: 0.00% |          | Rows 0/1 | Elapsed Time: 00:00 | Remaining Time: ?"
      ]
     },
     "metadata": {},
     "output_type": "display_data"
    },
    {
     "name": "stdout",
     "output_type": "stream",
     "text": [
      "Launching job: wine_quality_predictions_1_offline_fg_materialization\n",
      "Job started successfully, you can follow the progress at \n",
      "https://c.app.hopsworks.ai/p/206996/jobs/named/wine_quality_predictions_1_offline_fg_materialization/executions\n",
      "Finished: Reading data from Hopsworks, using ArrowFlight (0.89s) \n"
     ]
    }
   ],
   "source": [
    "monitor_df = pd.DataFrame(data)\n",
    "monitor_fg.insert(monitor_df, write_options={\"wait_for_job\" : False})\n",
    "\n",
    "history_df = monitor_fg.read()\n",
    "# Add our prediction to the history, as the history_df won't have it - \n",
    "# the insertion was done asynchronously, so it will take ~1 min to land on App\n",
    "history_df = pd.concat([history_df, monitor_df])"
   ]
  },
  {
   "cell_type": "code",
   "execution_count": 25,
   "metadata": {},
   "outputs": [
    {
     "data": {
      "image/png": "[encoded data removed]",
      "text/plain": [
       "<Figure size 800x400 with 1 Axes>"
      ]
     },
     "metadata": {},
     "output_type": "display_data"
    },
    {
     "data": {
      "application/vnd.jupyter.widget-view+json": {
       "model_id": "428a5fa518f74e5fa41647a6e7fd5bae",
       "version_major": 2,
       "version_minor": 0
      },
      "text/plain": [
       "Uploading: 0.000%|          | 0/12230 elapsed<00:00 remaining<?"
      ]
     },
     "metadata": {},
     "output_type": "display_data"
    },
    {
     "data": {
      "text/plain": [
       "'Resources/images/df_recent.png'"
      ]
     },
     "execution_count": 25,
     "metadata": {},
     "output_type": "execute_result"
    }
   ],
   "source": [
    "#import dataframe_image as dfi\n",
    "import matplotlib.pyplot as plt\n",
    "df_recent = history_df.tail(4)\n",
    "fig, ax = plt.subplots(figsize=(8, 4))\n",
    "ax.axis('tight')\n",
    "ax.axis('off')\n",
    "ax.table(cellText=df_recent.values, colLabels=df_recent.columns, cellLoc = 'center', loc='center')\n",
    "\n",
    "# Save the plot as an image\n",
    "plt.savefig('./df_recent.png')\n",
    "\n",
    "# Optionally, you can also display the plot\n",
    "plt.show()\n",
    "#dfi.export(df_recent, './df_recent.png', table_conversion = 'matplotlib')\n",
    "dataset_api.upload(\"./df_recent.png\", \"Resources/images\", overwrite=True)"
   ]
  },
  {
   "cell_type": "code",
   "execution_count": 22,
   "metadata": {},
   "outputs": [
    {
     "name": "stdout",
     "output_type": "stream",
     "text": [
      "Number of different wine quality predictions to date: 1\n",
      "You need 7 different wine quality predictions to create the confusion matrix.\n",
      "Run the batch inference pipeline more times until you get 7 different wine quality predictions\n"
     ]
    }
   ],
   "source": [
    "predictions = history_df[['prediction']]\n",
    "labels = history_df[['label']]\n",
    "\n",
    "# Only create the confusion matrix when our wine_quality_predictions feature group has examples of all 7 qualities\n",
    "print(\"Number of different wine quality predictions to date: \" + str(predictions.value_counts().count()))\n",
    "if predictions.value_counts().count() == 7:\n",
    "    results = confusion_matrix(labels, predictions)\n",
    "\n",
    "    df_cm = pd.DataFrame(results, [3, 4, 5, 6, 7, 8, 9],\n",
    "                            [3, 4, 5, 6, 7, 8, 9])\n",
    "\n",
    "    cm = sns.heatmap(df_cm, annot=True)\n",
    "    fig = cm.get_figure()\n",
    "    fig.savefig(\"./confusion_matrix.png\")\n",
    "    dataset_api.upload(\"./confusion_matrix.png\", \"Resources/images\", overwrite=True)\n",
    "else:\n",
    "    print(\"You need 7 different wine quality predictions to create the confusion matrix.\")\n",
    "    print(\"Run the batch inference pipeline more times until you get 7 different wine quality predictions\") "
   ]
  },
  {
   "cell_type": "code",
   "execution_count": null,
   "metadata": {},
   "outputs": [],
   "source": []
  }
 ],
 "metadata": {
  "kernelspec": {
   "display_name": "Python 3.10.0 ('labenv')",
   "language": "python",
   "name": "python3"
  },
  "language_info": {
   "codemirror_mode": {
    "name": "ipython",
    "version": 3
   },
   "file_extension": ".py",
   "mimetype": "text/x-python",
   "name": "python",
   "nbconvert_exporter": "python",
   "pygments_lexer": "ipython3",
   "version": "3.10.0"
  },
  "orig_nbformat": 4,
  "vscode": {
   "interpreter": {
    "hash": "97f64928418ea14f740effb4d9ace101d8c0b92fb04fd49be3bdba4a017cbbe9"
   }
  }
 },
 "nbformat": 4,
 "nbformat_minor": 2
}
