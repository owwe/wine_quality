{
 "cells": [
  {
   "cell_type": "code",
   "execution_count": null,
   "metadata": {},
   "outputs": [],
   "source": [
    "import pandas as pd\n",
    "import hopsworks\n",
    "import joblib\n",
    "import datetime\n",
    "from PIL import Image\n",
    "from datetime import datetime\n",
    "import dataframe_image as dfi\n",
    "from sklearn.metrics import confusion_matrix\n",
    "from matplotlib import pyplot\n",
    "import seaborn as sns\n",
    "import requests\n",
    "import os\n",
    "from dotenv import load_dotenv"
   ]
  },
  {
   "cell_type": "code",
   "execution_count": null,
   "metadata": {},
   "outputs": [],
   "source": [
    "load_dotenv()\n",
    "api_key = os.getenv(\"HOPSWORKS_API_KEY\")"
   ]
  },
  {
   "cell_type": "code",
   "execution_count": null,
   "metadata": {},
   "outputs": [],
   "source": [
    "project = hopsworks.login(api_key_value=api_key, project=\"DD2223_lab1\")\n",
    "fs = project.get_feature_store()"
   ]
  },
  {
   "cell_type": "code",
   "execution_count": null,
   "metadata": {},
   "outputs": [],
   "source": [
    "mr = project.get_model_registry()\n",
    "model = mr.get_model(\"winequality_model\", version=1)\n",
    "model_dir = model.download()\n",
    "model = joblib.load(model_dir + \"/winequality_model.pkl\")"
   ]
  },
  {
   "cell_type": "code",
   "execution_count": null,
   "metadata": {},
   "outputs": [],
   "source": [
    "feature_view = fs.get_feature_view(name=\"wine_quality\", version=1)\n",
    "batch_data = feature_view.get_batch_data()"
   ]
  },
  {
   "cell_type": "code",
   "execution_count": null,
   "metadata": {},
   "outputs": [],
   "source": [
    "y_pred = model.predict(batch_data)\n",
    "#print(y_pred)\n",
    "offset = 1\n",
    "wine = y_pred[y_pred.size-offset]\n",
    "wine_url = \"https://raw.githubusercontent.com/featurestoreorg/serverless-ml-course/main/src/01-module/assets/\" + wine + \".png\"\n",
    "print(\"Predicted wine quality: \" + wine)\n",
    "img = Image.open(requests.get(wine_url, stream=True).raw)            \n",
    "img.save(\"./latest_iris.png\")\n",
    "dataset_api = project.get_dataset_api()    \n",
    "dataset_api.upload(\"./latest_iris.png\", \"Resources/images\", overwrite=True)"
   ]
  },
  {
   "cell_type": "code",
   "execution_count": null,
   "metadata": {},
   "outputs": [],
   "source": [
    "wine_fg = fs.get_feature_group(name=\"wine_quality\", version=1)\n",
    "df = wine_fg.read() \n",
    "#print(df)\n",
    "label = df.iloc[-offset][\"variety\"]\n",
    "label_url = \"https://raw.githubusercontent.com/featurestoreorg/serverless-ml-course/main/src/01-module/assets/\" + label + \".png\"\n",
    "print(\"Actual wine quality: \" + label)\n",
    "img = Image.open(requests.get(label_url, stream=True).raw)            \n",
    "img.save(\"./actual_iris.png\")\n",
    "dataset_api.upload(\"./actual_iris.png\", \"Resources/images\", overwrite=True)"
   ]
  },
  {
   "cell_type": "code",
   "execution_count": null,
   "metadata": {},
   "outputs": [],
   "source": [
    "monitor_fg = fs.get_or_create_feature_group(name=\"wine_quality_predictions\",\n",
    "                                            version=1,\n",
    "                                            primary_key=[\"datetime\"],\n",
    "                                            description=\"Wine Quality Prediction/Outcome Monitoring\"\n",
    "                                            )\n",
    "\n",
    "now = datetime.now().strftime(\"%m/%d/%Y, %H:%M:%S\")\n",
    "data = {\n",
    "    'prediction': [wine],\n",
    "    'label': [label],\n",
    "    'datetime': [now],\n",
    "    }\n",
    "monitor_df = pd.DataFrame(data)\n",
    "monitor_fg.insert(monitor_df, write_options={\"wait_for_job\" : False})\n",
    "\n",
    "history_df = monitor_fg.read()\n",
    "# Add our prediction to the history, as the history_df won't have it - \n",
    "# the insertion was done asynchronously, so it will take ~1 min to land on App\n",
    "history_df = pd.concat([history_df, monitor_df])"
   ]
  },
  {
   "cell_type": "code",
   "execution_count": null,
   "metadata": {},
   "outputs": [],
   "source": [
    "df_recent = history_df.tail(4)\n",
    "dfi.export(df_recent, './df_recent.png', table_conversion = 'matplotlib')\n",
    "dataset_api.upload(\"./df_recent.png\", \"Resources/images\", overwrite=True)\n",
    "\n",
    "predictions = history_df[['prediction']]\n",
    "labels = history_df[['label']]\n",
    "\n",
    "# Only create the confusion matrix when our wine_quality_predictions feature group has examples of all 7 qualities\n",
    "print(\"Number of different wine quality predictions to date: \" + str(predictions.value_counts().count()))\n",
    "if predictions.value_counts().count() == 3:\n",
    "    results = confusion_matrix(labels, predictions)\n",
    "\n",
    "    df_cm = pd.DataFrame(results, ['True Setosa', 'True Versicolor', 'True Virginica'],\n",
    "                            ['Pred Setosa', 'Pred Versicolor', 'Pred Virginica'])\n",
    "\n",
    "    cm = sns.heatmap(df_cm, annot=True)\n",
    "    fig = cm.get_figure()\n",
    "    fig.savefig(\"./confusion_matrix.png\")\n",
    "    dataset_api.upload(\"./confusion_matrix.png\", \"Resources/images\", overwrite=True)\n",
    "else:\n",
    "    print(\"You need 7 different wine quality predictions to create the confusion matrix.\")\n",
    "    print(\"Run the batch inference pipeline more times until you get 7 different wine quality predictions\") "
   ]
  }
 ],
 "metadata": {
  "kernelspec": {
   "display_name": "Python 3.10.0 ('labenv')",
   "language": "python",
   "name": "python3"
  },
  "language_info": {
   "name": "python",
   "version": "3.10.0"
  },
  "orig_nbformat": 4,
  "vscode": {
   "interpreter": {
    "hash": "97f64928418ea14f740effb4d9ace101d8c0b92fb04fd49be3bdba4a017cbbe9"
   }
  }
 },
 "nbformat": 4,
 "nbformat_minor": 2
}
